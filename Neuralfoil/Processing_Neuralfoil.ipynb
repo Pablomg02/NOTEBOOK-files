{
 "cells": [
  {
   "cell_type": "code",
   "execution_count": 14,
   "metadata": {},
   "outputs": [
    {
     "name": "stdout",
     "output_type": "stream",
     "text": [
      "2032c.dat, 0, Before: 0.0010001659393310547 seconds\n",
      "2032c.dat, 5, Before: 0.01199960708618164 seconds\n",
      "a18sm.dat, 0, Before: 0.02300095558166504 seconds\n",
      "a18sm.dat, 5, Before: 0.03399944305419922 seconds\n",
      "b29tip.dat, 0, Before: 0.04600024223327637 seconds\n",
      "b29tip.dat, 5, Before: 0.05800747871398926 seconds\n",
      "b737b.dat, 0, Before: 0.07155084609985352 seconds\n",
      "b737b.dat, 5, Before: 0.08153438568115234 seconds\n",
      "naca6412.dat, 0, Before: 0.09255027770996094 seconds\n",
      "naca6412.dat, 5, Before: 0.1015634536743164 seconds\n",
      "End time elapsed: 0.1125338077545166 seconds\n"
     ]
    }
   ],
   "source": [
    "import neuralfoil as nf  # `pip install neuralfoil`\n",
    "import numpy as np\n",
    "import neuralfoil as nf\n",
    "import os\n",
    "import csv\n",
    "import time\n",
    "import multiprocessing\n",
    "\n",
    "start_time = time.time()\n",
    "\n",
    "directory = \"Airfoils/\" # Directory where the .dat files are located\n",
    "datnames = os.listdir(directory) # List of all the files in the directory\n",
    "datnames = [name for name in datnames if name.endswith(\".dat\")] # Filter the files that are not .dat files\n",
    "filename= \"Airfoils_Neuralfoil\" # Name of the file to save the data\n",
    "\n",
    "\n",
    "angles = [0,5]  # Angles of attack [deg]\n",
    "\n",
    "\n",
    "def defname(filename):  # Define the name of the file to save the data\n",
    "    i = 1\n",
    "    while True: \n",
    "        name = f\"{filename}{i if i != 1 else ''}.csv\"\n",
    "        if not os.path.exists(name):\n",
    "            return name\n",
    "        i += 1\n",
    "\n",
    "        if i > 1000:\n",
    "            raise Exception(\"Too many files with the same name. Please change the name of the file.\")\n",
    "            \n",
    "    \n",
    "\n",
    "\n",
    "\n",
    "\n",
    "\n",
    "f = open(defname(filename), 'w') # Open the file to save the data\n",
    "writer = csv.writer(f) # Create the writer object\n",
    "\n",
    "writer.writerow([\"Airfoil\", \"Degrees\", \"CL\", \"CD\", \"CM\"]) # Write the header of the file\n",
    "\n",
    "for datname in datnames: # Loop through all the .dat files\n",
    "    for angle in angles: # Loop through all the angles of attack\n",
    "        print(f\"{datname}, {angle}, Before: {time.time() - start_time} seconds\") # Print the time elapsed\n",
    "        aero = nf.get_aero_from_dat_file(\n",
    "            filename = directory + \"/\" + datname, # Path to the .dat file\n",
    "            alpha = angle,  # Angle of attack [deg]\n",
    "            Re = 1e6,  # Reynolds number [-]\n",
    "            model_size = \"xlarge\",  # Optionally, specify your model size.\n",
    "        )\n",
    "        #print(f\"\"\" \n",
    "        #    Airfoil name: {datname}\n",
    "        #    Degrees: {angle} \n",
    "        #    CL: {aero[\"CL\"]}\n",
    "        #    CD: {aero[\"CD\"]}\n",
    "        #    CM: {aero[\"CM\"]}\n",
    "        #    \"\"\")\n",
    "        \n",
    "        writer.writerow([datname[:-4], angle, aero[\"CL\"][0], aero[\"CD\"][0], aero[\"CM\"][0]]) # Write the data to the file\n",
    "\n",
    "\n",
    "f.close() # Close the file\n",
    "\n",
    "print(f\"End time elapsed: {time.time() - start_time} seconds\") # Print the time elapsed\n"
   ]
  }
 ],
 "metadata": {
  "kernelspec": {
   "display_name": "venv",
   "language": "python",
   "name": "python3"
  },
  "language_info": {
   "codemirror_mode": {
    "name": "ipython",
    "version": 3
   },
   "file_extension": ".py",
   "mimetype": "text/x-python",
   "name": "python",
   "nbconvert_exporter": "python",
   "pygments_lexer": "ipython3",
   "version": "3.9.7"
  }
 },
 "nbformat": 4,
 "nbformat_minor": 2
}
